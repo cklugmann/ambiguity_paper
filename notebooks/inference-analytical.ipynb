{
 "cells": [
  {
   "cell_type": "code",
   "execution_count": 1,
   "id": "0972806d-f523-447c-9267-4df14c46d7f4",
   "metadata": {},
   "outputs": [],
   "source": [
    "import os\n",
    "import math\n",
    "from pathlib import Path\n",
    "\n",
    "import numpy as np\n",
    "import matplotlib.pyplot as plt\n",
    "import matplotlib as mpl\n",
    "mpl.rcParams['figure.dpi'] = 96\n",
    "\n",
    "from sklearn.utils import Bunch\n",
    "import scipy.stats\n",
    "import scipy.special\n",
    "\n",
    "import seldon.ambiguity.posterior as posterior\n",
    "from seldon.inference import BayesianInference, Posterior\n",
    "from seldon.utils.binning import bin_values"
   ]
  },
  {
   "cell_type": "code",
   "execution_count": 2,
   "id": "394a89ef-a914-487d-a71a-b3c584f38d88",
   "metadata": {},
   "outputs": [],
   "source": [
    "def out_path(*parts) -> Path:\n",
    "    p = Path(\"out\", *parts)\n",
    "    p.parent.mkdir(parents=True, exist_ok=True)\n",
    "    return p"
   ]
  },
  {
   "cell_type": "code",
   "execution_count": 3,
   "id": "90155493-15a6-4d42-8b3b-91c9cb8c9305",
   "metadata": {},
   "outputs": [],
   "source": [
    "def to_filename(ns: np.ndarray, file_extension: str = \"pdf\") -> str:\n",
    "    if len(ns.shape) > 1:\n",
    "        ns, *_ = ns\n",
    "    ns = ns.tolist()\n",
    "    return f\"example_{'-'.join(map(str, ns))}.{file_extension}\""
   ]
  },
  {
   "cell_type": "code",
   "execution_count": 4,
   "id": "58e5a4cb-18e9-4733-9d5b-2f188df6a9b7",
   "metadata": {},
   "outputs": [],
   "source": [
    "def simulation_plot(\n",
    "    posterior_object: Posterior,\n",
    "    ax: mpl.axes.Axes,\n",
    "    sample_size: int = 100_000,\n",
    "    simulation_size: int = 100,\n",
    "    bins: int = 256\n",
    "):\n",
    "    \n",
    "    bins_results = list()\n",
    "    amb_values = list()\n",
    "    \n",
    "    for _ in range(simulation_size):\n",
    "        amb = posterior_object.sample(repeats=sample_size)\n",
    "        bins_results.append(bin_values(amb, bins=bins))\n",
    "        amb_values.append(amb)\n",
    "\n",
    "    def to_densities(bin_res):\n",
    "        return (\n",
    "            1 / bin_res.bin_width * bin_res.counts / bin_res.counts.sum()\n",
    "        )\n",
    "    \n",
    "    all_densities = np.vstack([to_densities(bins_res) for bins_res in bins_results])\n",
    "    \n",
    "    q25, q50, q75 = np.quantile(all_densities, q=[0.25, 0.5, 0.75], axis=0)\n",
    "    xticks = np.linspace(0, 1, 21)\n",
    "    ax.plot(bins_results[0].bin_centers, q50, color=\"red\")\n",
    "    ax.fill_between(bins_results[0].bin_centers, q25, q75, color=\"red\", alpha=0.3)\n",
    "    ax.set_xlim(0, 1+1e-2)\n",
    "    ax.set_xticks(xticks[::2])\n",
    "    ax.set_xticks(xticks[1::2], minor=True)\n",
    "    ax.grid(axis=\"x\", which=\"major\", linewidth=1)\n",
    "    ax.grid(axis=\"x\", which=\"minor\", linewidth=1)\n",
    "    ax.grid(axis=\"y\")\n",
    "    ax.set_xlabel(\"value\")\n",
    "    ax.set_ylabel(\"density\")\n",
    "\n",
    "    if isinstance(posterior_object, posterior.AmbiguityPosterior):\n",
    "        ax.set_title(\"Old Ambiguity Measure\")\n",
    "    if isinstance(posterior_object, posterior.NewAmbiguityPosterior):\n",
    "        ax.set_title(\"New Ambiguity Measure\")\n",
    "    if isinstance(posterior_object, posterior.ModifiedNewAmbiguityPosterior):\n",
    "        ax.set_title(\"New Ambiguity Measure (Modified)\")\n",
    "    \n",
    "    return ax, Bunch(\n",
    "        samples=np.vstack(amb_values),\n",
    "        median_counts=q50,\n",
    "        bin_centers=bins_results[0].bin_centers\n",
    "    )"
   ]
  },
  {
   "cell_type": "code",
   "execution_count": 5,
   "id": "4b0f5052-e71d-4b86-95bc-bde070b73673",
   "metadata": {},
   "outputs": [],
   "source": [
    "def annotated_simulation_plot(posterior_object: Posterior, ax: mpl.axes.Axes, **kwargs):\n",
    "    \n",
    "    ax, res = simulation_plot(posterior_object=posterior_object, ax=ax, **kwargs)\n",
    "    \n",
    "    mu = posterior_object.mean()\n",
    "    sigma = posterior_object.std()\n",
    "    lower, upper = np.clip(mu + np.array([-1, 1]) * sigma, 0, 1)\n",
    "    idx_lower, idx_mean, idx_upper = (\n",
    "        np.abs(res.bin_centers.reshape(1, -1) - np.array([lower, mu, upper]).reshape(-1, 1))\n",
    "        .argmin(axis=-1)\n",
    "    )\n",
    "    bin_indices_selected = np.arange(idx_lower, idx_upper + 1)\n",
    "    median_counts_selected = res.median_counts[bin_indices_selected]\n",
    "\n",
    "    predicate = (\n",
    "        \"exact\" if any([\n",
    "            isinstance(posterior_object, cls)\n",
    "            for cls in [posterior.NewAmbiguityPosterior, posterior.ModifiedNewAmbiguityPosterior]\n",
    "        ])\n",
    "        else \"approx.\"\n",
    "    )\n",
    "    \n",
    "    ax.fill_between(\n",
    "        res.bin_centers[bin_indices_selected],\n",
    "        np.zeros_like(median_counts_selected),\n",
    "        median_counts_selected,\n",
    "        alpha=0.3,\n",
    "        label=f\"{predicate} std\"\n",
    "    )\n",
    "    ax.vlines(\n",
    "        x=res.bin_centers[idx_mean],\n",
    "        ymin=0,\n",
    "        ymax=res.median_counts[idx_mean],\n",
    "        color=\"black\",\n",
    "        linestyle=\"--\",\n",
    "        label=f\"{predicate} mean\"\n",
    "    )\n",
    "    ax.legend()\n",
    "\n",
    "    return ax, res"
   ]
  },
  {
   "cell_type": "code",
   "execution_count": 6,
   "id": "7d76df5c-4d4d-4f08-b990-efe95dbd2e36",
   "metadata": {},
   "outputs": [],
   "source": [
    "#ns = np.array([10, 1, 1])\n",
    "ns = np.array([5, 0, 0])\n",
    "#ns = np.array([10, 0, 0])\n",
    "#ns = np.array([30, 0, 0])\n",
    "#ns = np.array([0, 0, 7])"
   ]
  },
  {
   "cell_type": "code",
   "execution_count": 7,
   "id": "cdacb0a3-47b6-4607-8a22-1a288b922a4d",
   "metadata": {},
   "outputs": [],
   "source": [
    "# Choice of prior\n",
    "beta: float = 1\n",
    "\n",
    "kwargs = dict(\n",
    "    sample_size=100_000,\n",
    "    simulation_size=100\n",
    ")"
   ]
  },
  {
   "cell_type": "code",
   "execution_count": 8,
   "id": "2ab1039f-723e-4ef1-a442-858b41b67ed5",
   "metadata": {},
   "outputs": [],
   "source": [
    "alphas = (ns + beta * np.ones_like(ns)).tolist()"
   ]
  },
  {
   "cell_type": "markdown",
   "id": "75d4a0be-65b5-4acb-8d35-b75741252d89",
   "metadata": {},
   "source": [
    "## An analytical expression in the case of $C+1=3$"
   ]
  },
  {
   "cell_type": "code",
   "execution_count": 9,
   "id": "fb8b0fc6-2802-4382-9fb1-4fc01eb956e5",
   "metadata": {},
   "outputs": [],
   "source": [
    "def compute_xi(ambs: np.ndarray, us: np.ndarray, modified: bool = False) -> np.ndarray:\n",
    "    # ambs: (M,)\n",
    "    # us: (N,)\n",
    "    dd = (1 - ambs.reshape(-1, 1)) / (1 - us)\n",
    "    if not modified:\n",
    "        dd = 2 * dd - 1\n",
    "    # dd: (M, N)\n",
    "    return np.permute_dims(1/2 * (\n",
    "        # (M, N, 2)\n",
    "        1 + np.array([1, -1]) * np.expand_dims(np.sqrt(np.maximum(0, dd)), axis=-1)\n",
    "    ), (2, 0, 1))\n",
    "\n",
    "\n",
    "def compute_dxi_da(ambs: np.ndarray, us: np.ndarray, modified: bool = False) -> np.ndarray:\n",
    "    # ambs: (M,)\n",
    "    # us: (N,)\n",
    "    denom_squared = (1 - ambs).reshape(-1, 1) * (1 - us)\n",
    "    factor = 1/4\n",
    "    if not modified:\n",
    "        denom_squared = np.maximum(1e-7, denom_squared + (\n",
    "            (us - ambs.reshape(-1, 1)) * (1 - us)\n",
    "        ))\n",
    "        factor *= 2\n",
    "    return np.permute_dims(factor * np.array([-1, 1]) * np.expand_dims(1 / np.sqrt(denom_squared), axis=-1), (2, 0, 1))"
   ]
  },
  {
   "cell_type": "code",
   "execution_count": 10,
   "id": "d90baa8c-fc3a-40f3-8871-7bb42f3a7190",
   "metadata": {},
   "outputs": [],
   "source": [
    "def amb_density(ambs: np.ndarray, alphas: list[float], modified: bool = False):\n",
    "    # ambs: (M,)\n",
    "    g_ambs = np.maximum(0, 2 * ambs  - 1)\n",
    "    \n",
    "    # Concentration parameters\n",
    "    assert len(alphas) == 3\n",
    "    a_a, a_b, a_cs = alphas\n",
    "    \n",
    "    # Define grid over u\n",
    "    us_grid = np.linspace(0, 1, 10001)\n",
    "    us_left = us_grid[:-1]\n",
    "    us_right = us_grid[1:]\n",
    "    us = (us_left + us_right) / 2\n",
    "    du = us_right - us_left\n",
    "    is_valid = us_right <= ambs.reshape(-1, 1)\n",
    "    if not modified:\n",
    "        is_valid = np.logical_and(\n",
    "            is_valid,\n",
    "            us_left >= g_ambs.reshape(-1, 1)\n",
    "        )\n",
    "    \n",
    "    # us, du: (N,)\n",
    "    # is_valid: (M, N)\n",
    "    \n",
    "    # Compute xi± and its derivatives with respect to ambiguity value\n",
    "    xi_plus, xi_minus = compute_xi(ambs, us, modified=modified)\n",
    "    dxi_plus, *_ = compute_dxi_da(ambs, us, modified=modified)\n",
    "    # xi_{plus,minus}: (M, N)\n",
    "    # dxi_plus: (M, N)\n",
    "    \n",
    "    beta_pdf = scipy.stats.beta.pdf\n",
    "    # beta_cdf = scipy.stats.beta.cdf\n",
    "    \n",
    "    # pdf_a = beta_pdf(ambs, a=a_cs, b=a_a+a_b)\n",
    "    pdf_u = beta_pdf(us, a=a_cs, b=a_a+a_b)\n",
    "    # cdf_plus = beta_cdf(xi_plus, a=a_a, b=a_b)\n",
    "    # cdf_minus = beta_cdf(xi_minus, a=a_a, b=a_b)\n",
    "    pdf_plus = beta_pdf(xi_plus, a=a_a, b=a_b)\n",
    "    pdf_minus = beta_pdf(xi_minus, a=a_a, b=a_b)\n",
    "    # pdf_a: (M,), pdf_u: (N,)\n",
    "    # cdf_{plus,minus}: (M, N)\n",
    "    # pdf_{plus,minus}: (M, N)\n",
    "    \n",
    "    # Stitch it together\n",
    "    integral = -np.sum(\n",
    "        pdf_u * du\n",
    "        * is_valid * dxi_plus * (\n",
    "            pdf_plus + pdf_minus\n",
    "        ),\n",
    "        axis=-1\n",
    "    )\n",
    "        \n",
    "    # integral: (M,)\n",
    "        \n",
    "    return integral"
   ]
  },
  {
   "cell_type": "code",
   "execution_count": 11,
   "id": "dc26eab9-e1f7-4511-b7fd-3682b0eb45e4",
   "metadata": {},
   "outputs": [
    {
     "data": {
      "text/plain": [
       "np.float64(0.9985999970188154)"
      ]
     },
     "execution_count": 11,
     "metadata": {},
     "output_type": "execute_result"
    }
   ],
   "source": [
    "modified: bool = False\n",
    "\n",
    "ambs_grid = np.linspace(0, 1, 1001)\n",
    "ambs_left = ambs_grid[:-1]\n",
    "ambs_right = ambs_grid[1:]\n",
    "ambs = (ambs_left + ambs_right) / 2\n",
    "dambs = ambs_right - ambs_left\n",
    "density = amb_density(ambs, alphas=alphas, modified=modified)\n",
    "\n",
    "unit_mass = np.sum(\n",
    "    dambs * density\n",
    ")\n",
    "\n",
    "exp_amb = np.sum(dambs * ambs * density)\n",
    "idx_closest_on_grid = np.abs(ambs - exp_amb).argmin()\n",
    "exp_corresponding_density = density[idx_closest_on_grid]\n",
    "\n",
    "unit_mass"
   ]
  },
  {
   "cell_type": "code",
   "execution_count": 12,
   "id": "a95df90b-7622-45b2-8500-6eab6ab0f63b",
   "metadata": {},
   "outputs": [
    {
     "data": {
      "image/png": "[encoded data removed]",
      "text/plain": [
       "<Figure size 614.4x460.8 with 1 Axes>"
      ]
     },
     "metadata": {},
     "output_type": "display_data"
    }
   ],
   "source": [
    "inference_object = (\n",
    "    BayesianInference\n",
    "    .specify(\n",
    "        posterior.ModifiedNewAmbiguityPosterior\n",
    "        if modified\n",
    "        else posterior.NewAmbiguityPosterior\n",
    "    )\n",
    ")(beta=beta).fit(ns)\n",
    "\n",
    "fig, ax = plt.subplots()\n",
    "_, res = annotated_simulation_plot(inference_object.posterior, ax=ax, **kwargs)\n",
    "ax.plot(ambs, density)\n",
    "plt.show()"
   ]
  },
  {
   "cell_type": "code",
   "execution_count": 13,
   "id": "e53d1a7d-2ad7-429a-abd2-e27bf53c0c74",
   "metadata": {},
   "outputs": [],
   "source": [
    "from seldon.amb_pdf import pdf_batch, AmbiguityType"
   ]
  },
  {
   "cell_type": "code",
   "execution_count": 14,
   "id": "a0596c46-ba01-4772-9c62-e2116f97d31c",
   "metadata": {},
   "outputs": [],
   "source": [
    "cpp_density = pdf_batch(\n",
    "    ambs,\n",
    "    *alphas,\n",
    "    type=aAmbiguityType.Modified if modified else AmbiguityType.Standard\n",
    ")"
   ]
  },
  {
   "cell_type": "code",
   "execution_count": 15,
   "id": "5c889904-2a45-4d0d-8793-eddd1ced0cd9",
   "metadata": {},
   "outputs": [
    {
     "data": {
      "text/plain": [
       "np.float64(0.9999656101495032)"
      ]
     },
     "execution_count": 15,
     "metadata": {},
     "output_type": "execute_result"
    }
   ],
   "source": [
    "np.sum(\n",
    "    dambs * cpp_density\n",
    ")"
   ]
  },
  {
   "cell_type": "code",
   "execution_count": 16,
   "id": "126b6ed3-9c07-4220-823c-6fa624e7e188",
   "metadata": {},
   "outputs": [
    {
     "data": {
      "image/png": "[encoded data removed]",
      "text/plain": [
       "<Figure size 614.4x460.8 with 1 Axes>"
      ]
     },
     "metadata": {},
     "output_type": "display_data"
    }
   ],
   "source": [
    "plt.plot(ambs, cpp_density); plt.show()"
   ]
  },
  {
   "cell_type": "code",
   "execution_count": null,
   "id": "c865260e-e647-468b-bbb8-44cf1005cde8",
   "metadata": {},
   "outputs": [],
   "source": []
  }
 ],
 "metadata": {
  "kernelspec": {
   "display_name": "Python 3 (ipykernel)",
   "language": "python",
   "name": "python3"
  },
  "language_info": {
   "codemirror_mode": {
    "name": "ipython",
    "version": 3
   },
   "file_extension": ".py",
   "mimetype": "text/x-python",
   "name": "python",
   "nbconvert_exporter": "python",
   "pygments_lexer": "ipython3",
   "version": "3.10.18"
  }
 },
 "nbformat": 4,
 "nbformat_minor": 5
}
