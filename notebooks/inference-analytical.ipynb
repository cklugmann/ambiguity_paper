{
 "cells": [
  {
   "cell_type": "code",
   "execution_count": 1,
   "id": "0972806d-f523-447c-9267-4df14c46d7f4",
   "metadata": {},
   "outputs": [],
   "source": [
    "import os\n",
    "import math\n",
    "from pathlib import Path\n",
    "\n",
    "import numpy as np\n",
    "import matplotlib.pyplot as plt\n",
    "import matplotlib as mpl\n",
    "mpl.rcParams['figure.dpi'] = 96\n",
    "\n",
    "import scipy.stats\n",
    "\n",
    "import seldon.ambiguity.posterior as posterior\n",
    "from seldon.inference import BayesianInference, Posterior"
   ]
  },
  {
   "cell_type": "code",
   "execution_count": 2,
   "id": "7d76df5c-4d4d-4f08-b990-efe95dbd2e36",
   "metadata": {},
   "outputs": [],
   "source": [
    "# Observations\n",
    "\n",
    "#ns = np.array([10, 1, 1])\n",
    "ns = np.array([5, 0, 0])\n",
    "#ns = np.array([10, 0, 0])\n",
    "#ns = np.array([30, 0, 0])\n",
    "#ns = np.array([0, 0, 7])"
   ]
  },
  {
   "cell_type": "code",
   "execution_count": 3,
   "id": "cdacb0a3-47b6-4607-8a22-1a288b922a4d",
   "metadata": {},
   "outputs": [],
   "source": [
    "# Choice of prior\n",
    "beta: float = 1\n",
    "\n",
    "# Choice of ambiguity measure\n",
    "modified: bool = False"
   ]
  },
  {
   "cell_type": "code",
   "execution_count": 4,
   "id": "2ab1039f-723e-4ef1-a442-858b41b67ed5",
   "metadata": {},
   "outputs": [],
   "source": [
    "inference_object = (\n",
    "    BayesianInference\n",
    "    .specify(\n",
    "        posterior.ModifiedNewAmbiguityPosterior\n",
    "        if modified\n",
    "        else posterior.NewAmbiguityPosterior\n",
    "    )\n",
    ")(beta=beta).fit(ns)"
   ]
  },
  {
   "cell_type": "code",
   "execution_count": 5,
   "id": "27fe9ab5-5224-4c7e-8af6-49f87cf69428",
   "metadata": {},
   "outputs": [
    {
     "data": {
      "text/plain": [
       "0.9999656101495032"
      ]
     },
     "execution_count": 5,
     "metadata": {},
     "output_type": "execute_result"
    }
   ],
   "source": [
    "ambs_grid = np.linspace(0, 1, 1001)\n",
    "ambs_left = ambs_grid[:-1]\n",
    "ambs_right = ambs_grid[1:]\n",
    "ambs = (ambs_left + ambs_right) / 2\n",
    "dambs = ambs_right - ambs_left\n",
    "density = inference_object.posterior.pdf(ambs)\n",
    "\n",
    "unit_mass = np.sum(\n",
    "    dambs * density\n",
    ")\n",
    "\n",
    "exp_amb = np.sum(dambs * ambs * density)\n",
    "idx_closest_on_grid = np.abs(ambs - exp_amb).argmin()\n",
    "exp_corresponding_density = density[idx_closest_on_grid]\n",
    "\n",
    "unit_mass.item()"
   ]
  },
  {
   "cell_type": "code",
   "execution_count": 6,
   "id": "3ed76f95-829b-40d1-abda-d93b8ef5491f",
   "metadata": {},
   "outputs": [
    {
     "data": {
      "image/png": "[encoded data removed]",
      "text/plain": [
       "<Figure size 614.4x460.8 with 1 Axes>"
      ]
     },
     "metadata": {},
     "output_type": "display_data"
    }
   ],
   "source": [
    "fig, ax = plt.subplots()\n",
    "ax.plot(ambs, inference_object.posterior.pdf(ambs))\n",
    "ax.set_xlabel(\"ambiguity\")\n",
    "ax.set_ylabel(\"density\")\n",
    "plt.show()"
   ]
  },
  {
   "cell_type": "markdown",
   "id": "75d4a0be-65b5-4acb-8d35-b75741252d89",
   "metadata": {},
   "source": [
    "## An analytical expression in the case of $C+1=3$ [**DEPRECATED**]"
   ]
  },
  {
   "cell_type": "code",
   "execution_count": 7,
   "id": "fb8b0fc6-2802-4382-9fb1-4fc01eb956e5",
   "metadata": {},
   "outputs": [],
   "source": [
    "def compute_xi(ambs: np.ndarray, us: np.ndarray, modified: bool = False) -> np.ndarray:\n",
    "    # ambs: (M,)\n",
    "    # us: (N,)\n",
    "    dd = (1 - ambs.reshape(-1, 1)) / (1 - us)\n",
    "    if not modified:\n",
    "        dd = 2 * dd - 1\n",
    "    # dd: (M, N)\n",
    "    return np.permute_dims(1/2 * (\n",
    "        # (M, N, 2)\n",
    "        1 + np.array([1, -1]) * np.expand_dims(np.sqrt(np.maximum(0, dd)), axis=-1)\n",
    "    ), (2, 0, 1))\n",
    "\n",
    "\n",
    "def compute_dxi_da(ambs: np.ndarray, us: np.ndarray, modified: bool = False) -> np.ndarray:\n",
    "    # ambs: (M,)\n",
    "    # us: (N,)\n",
    "    denom_squared = (1 - ambs).reshape(-1, 1) * (1 - us)\n",
    "    factor = 1/4\n",
    "    if not modified:\n",
    "        denom_squared = np.maximum(1e-7, denom_squared + (\n",
    "            (us - ambs.reshape(-1, 1)) * (1 - us)\n",
    "        ))\n",
    "        factor *= 2\n",
    "    return np.permute_dims(factor * np.array([-1, 1]) * np.expand_dims(1 / np.sqrt(denom_squared), axis=-1), (2, 0, 1))"
   ]
  },
  {
   "cell_type": "code",
   "execution_count": 8,
   "id": "d90baa8c-fc3a-40f3-8871-7bb42f3a7190",
   "metadata": {},
   "outputs": [],
   "source": [
    "def amb_density(ambs: np.ndarray, alphas: list[float], modified: bool = False):\n",
    "    # ambs: (M,)\n",
    "    g_ambs = np.maximum(0, 2 * ambs  - 1)\n",
    "    \n",
    "    # Concentration parameters\n",
    "    assert len(alphas) == 3\n",
    "    a_a, a_b, a_cs = alphas\n",
    "    \n",
    "    # Define grid over u\n",
    "    us_grid = np.linspace(0, 1, 10001)\n",
    "    us_left = us_grid[:-1]\n",
    "    us_right = us_grid[1:]\n",
    "    us = (us_left + us_right) / 2\n",
    "    du = us_right - us_left\n",
    "    is_valid = us_right <= ambs.reshape(-1, 1)\n",
    "    if not modified:\n",
    "        is_valid = np.logical_and(\n",
    "            is_valid,\n",
    "            us_left >= g_ambs.reshape(-1, 1)\n",
    "        )\n",
    "    \n",
    "    # us, du: (N,)\n",
    "    # is_valid: (M, N)\n",
    "    \n",
    "    # Compute xi± and its derivatives with respect to ambiguity value\n",
    "    xi_plus, xi_minus = compute_xi(ambs, us, modified=modified)\n",
    "    dxi_plus, *_ = compute_dxi_da(ambs, us, modified=modified)\n",
    "    # xi_{plus,minus}: (M, N)\n",
    "    # dxi_plus: (M, N)\n",
    "    \n",
    "    beta_pdf = scipy.stats.beta.pdf\n",
    "    # beta_cdf = scipy.stats.beta.cdf\n",
    "    \n",
    "    # pdf_a = beta_pdf(ambs, a=a_cs, b=a_a+a_b)\n",
    "    pdf_u = beta_pdf(us, a=a_cs, b=a_a+a_b)\n",
    "    # cdf_plus = beta_cdf(xi_plus, a=a_a, b=a_b)\n",
    "    # cdf_minus = beta_cdf(xi_minus, a=a_a, b=a_b)\n",
    "    pdf_plus = beta_pdf(xi_plus, a=a_a, b=a_b)\n",
    "    pdf_minus = beta_pdf(xi_minus, a=a_a, b=a_b)\n",
    "    # pdf_a: (M,), pdf_u: (N,)\n",
    "    # cdf_{plus,minus}: (M, N)\n",
    "    # pdf_{plus,minus}: (M, N)\n",
    "    \n",
    "    # Stitch it together\n",
    "    integral = -np.sum(\n",
    "        pdf_u * du\n",
    "        * is_valid * dxi_plus * (\n",
    "            pdf_plus + pdf_minus\n",
    "        ),\n",
    "        axis=-1\n",
    "    )\n",
    "        \n",
    "    # integral: (M,)\n",
    "        \n",
    "    return integral"
   ]
  }
 ],
 "metadata": {
  "kernelspec": {
   "display_name": "Python 3 (ipykernel)",
   "language": "python",
   "name": "python3"
  },
  "language_info": {
   "codemirror_mode": {
    "name": "ipython",
    "version": 3
   },
   "file_extension": ".py",
   "mimetype": "text/x-python",
   "name": "python",
   "nbconvert_exporter": "python",
   "pygments_lexer": "ipython3",
   "version": "3.10.18"
  }
 },
 "nbformat": 4,
 "nbformat_minor": 5
}
